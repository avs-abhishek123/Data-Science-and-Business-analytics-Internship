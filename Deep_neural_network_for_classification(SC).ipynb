{
  "nbformat": 4,
  "nbformat_minor": 0,
  "metadata": {
    "colab": {
      "name": "Deep neural network for classification(SC).ipynb",
      "provenance": []
    },
    "kernelspec": {
      "name": "python3",
      "display_name": "Python 3"
    },
    "language_info": {
      "name": "python"
    }
  },
  "cells": [
    {
      "cell_type": "code",
      "metadata": {
        "id": "gphMJ4z1CzXK"
      },
      "source": [
        "import numpy as np\n",
        "import pandas as pd\n",
        "import seaborn as sns\n",
        "import tensorflow as tf\n",
        "import matplotlib.pyplot as plt\n",
        "from sklearn.preprocessing import LabelEncoder\n",
        "from sklearn.model_selection import train_test_split\n",
        "from sklearn.metrics import accuracy_score,classification_report,confusion_matrix"
      ],
      "execution_count": null,
      "outputs": []
    },
    {
      "cell_type": "code",
      "metadata": {
        "id": "f60-F6qVZaJg"
      },
      "source": [
        "insurance_data= pd.read_csv(\"/content/sample_data/Insurance_TRAIN.csv\")"
      ],
      "execution_count": null,
      "outputs": []
    },
    {
      "cell_type": "code",
      "metadata": {
        "colab": {
          "base_uri": "https://localhost:8080/",
          "height": 225
        },
        "id": "U6uwJsppZaLn",
        "outputId": "5026907a-3df0-42b2-e13f-41058a80e978"
      },
      "source": [
        "insurance_data.head()"
      ],
      "execution_count": null,
      "outputs": [
        {
          "output_type": "execute_result",
          "data": {
            "text/html": [
              "<div>\n",
              "<style scoped>\n",
              "    .dataframe tbody tr th:only-of-type {\n",
              "        vertical-align: middle;\n",
              "    }\n",
              "\n",
              "    .dataframe tbody tr th {\n",
              "        vertical-align: top;\n",
              "    }\n",
              "\n",
              "    .dataframe thead th {\n",
              "        text-align: right;\n",
              "    }\n",
              "</style>\n",
              "<table border=\"1\" class=\"dataframe\">\n",
              "  <thead>\n",
              "    <tr style=\"text-align: right;\">\n",
              "      <th></th>\n",
              "      <th>id</th>\n",
              "      <th>Gender</th>\n",
              "      <th>Age</th>\n",
              "      <th>Driving_License</th>\n",
              "      <th>Region_Code</th>\n",
              "      <th>Previously_Insured</th>\n",
              "      <th>Vehicle_Age</th>\n",
              "      <th>Vehicle_Damage</th>\n",
              "      <th>Annual_Premium</th>\n",
              "      <th>Policy_Sales_Channel</th>\n",
              "      <th>Vintage</th>\n",
              "      <th>Response</th>\n",
              "    </tr>\n",
              "  </thead>\n",
              "  <tbody>\n",
              "    <tr>\n",
              "      <th>0</th>\n",
              "      <td>350957</td>\n",
              "      <td>Male</td>\n",
              "      <td>50</td>\n",
              "      <td>1</td>\n",
              "      <td>41</td>\n",
              "      <td>0</td>\n",
              "      <td>1-2 Year</td>\n",
              "      <td>Yes</td>\n",
              "      <td>35915</td>\n",
              "      <td>124</td>\n",
              "      <td>240</td>\n",
              "      <td>0</td>\n",
              "    </tr>\n",
              "    <tr>\n",
              "      <th>1</th>\n",
              "      <td>239788</td>\n",
              "      <td>Female</td>\n",
              "      <td>48</td>\n",
              "      <td>1</td>\n",
              "      <td>28</td>\n",
              "      <td>0</td>\n",
              "      <td>1-2 Year</td>\n",
              "      <td>Yes</td>\n",
              "      <td>26873</td>\n",
              "      <td>124</td>\n",
              "      <td>274</td>\n",
              "      <td>0</td>\n",
              "    </tr>\n",
              "    <tr>\n",
              "      <th>2</th>\n",
              "      <td>348272</td>\n",
              "      <td>Female</td>\n",
              "      <td>34</td>\n",
              "      <td>1</td>\n",
              "      <td>41</td>\n",
              "      <td>0</td>\n",
              "      <td>1-2 Year</td>\n",
              "      <td>Yes</td>\n",
              "      <td>2630</td>\n",
              "      <td>156</td>\n",
              "      <td>138</td>\n",
              "      <td>1</td>\n",
              "    </tr>\n",
              "    <tr>\n",
              "      <th>3</th>\n",
              "      <td>73940</td>\n",
              "      <td>Female</td>\n",
              "      <td>43</td>\n",
              "      <td>1</td>\n",
              "      <td>28</td>\n",
              "      <td>0</td>\n",
              "      <td>1-2 Year</td>\n",
              "      <td>Yes</td>\n",
              "      <td>46877</td>\n",
              "      <td>124</td>\n",
              "      <td>223</td>\n",
              "      <td>0</td>\n",
              "    </tr>\n",
              "    <tr>\n",
              "      <th>4</th>\n",
              "      <td>292871</td>\n",
              "      <td>Male</td>\n",
              "      <td>29</td>\n",
              "      <td>1</td>\n",
              "      <td>28</td>\n",
              "      <td>1</td>\n",
              "      <td>&lt; 1 Year</td>\n",
              "      <td>No</td>\n",
              "      <td>38009</td>\n",
              "      <td>152</td>\n",
              "      <td>106</td>\n",
              "      <td>0</td>\n",
              "    </tr>\n",
              "  </tbody>\n",
              "</table>\n",
              "</div>"
            ],
            "text/plain": [
              "       id  Gender  Age  ...  Policy_Sales_Channel  Vintage  Response\n",
              "0  350957    Male   50  ...                   124      240         0\n",
              "1  239788  Female   48  ...                   124      274         0\n",
              "2  348272  Female   34  ...                   156      138         1\n",
              "3   73940  Female   43  ...                   124      223         0\n",
              "4  292871    Male   29  ...                   152      106         0\n",
              "\n",
              "[5 rows x 12 columns]"
            ]
          },
          "metadata": {
            "tags": []
          },
          "execution_count": 8
        }
      ]
    },
    {
      "cell_type": "code",
      "metadata": {
        "colab": {
          "base_uri": "https://localhost:8080/"
        },
        "id": "i97xR8rfZaPk",
        "outputId": "1a316fa9-3e95-4730-edc3-31d0c9cf60b2"
      },
      "source": [
        "insurance_data.shape"
      ],
      "execution_count": null,
      "outputs": [
        {
          "output_type": "execute_result",
          "data": {
            "text/plain": [
              "(304887, 12)"
            ]
          },
          "metadata": {
            "tags": []
          },
          "execution_count": 9
        }
      ]
    },
    {
      "cell_type": "code",
      "metadata": {
        "colab": {
          "base_uri": "https://localhost:8080/"
        },
        "id": "C8ZkD_2uZaR8",
        "outputId": "2d4c109c-3c1a-423d-c6b4-696e1ef74af6"
      },
      "source": [
        "insurance_data.columns"
      ],
      "execution_count": null,
      "outputs": [
        {
          "output_type": "execute_result",
          "data": {
            "text/plain": [
              "Index(['id', 'Gender', 'Age', 'Driving_License', 'Region_Code',\n",
              "       'Previously_Insured', 'Vehicle_Age', 'Vehicle_Damage', 'Annual_Premium',\n",
              "       'Policy_Sales_Channel', 'Vintage', 'Response'],\n",
              "      dtype='object')"
            ]
          },
          "metadata": {
            "tags": []
          },
          "execution_count": 10
        }
      ]
    },
    {
      "cell_type": "code",
      "metadata": {
        "colab": {
          "base_uri": "https://localhost:8080/"
        },
        "id": "cqBiT6UbZaXG",
        "outputId": "d5f68a5d-797c-417b-bfb0-2760e4e1e3a1"
      },
      "source": [
        "insurance_data.info()"
      ],
      "execution_count": null,
      "outputs": [
        {
          "output_type": "stream",
          "text": [
            "<class 'pandas.core.frame.DataFrame'>\n",
            "RangeIndex: 304887 entries, 0 to 304886\n",
            "Data columns (total 12 columns):\n",
            " #   Column                Non-Null Count   Dtype \n",
            "---  ------                --------------   ----- \n",
            " 0   id                    304887 non-null  int64 \n",
            " 1   Gender                304887 non-null  object\n",
            " 2   Age                   304887 non-null  int64 \n",
            " 3   Driving_License       304887 non-null  int64 \n",
            " 4   Region_Code           304887 non-null  int64 \n",
            " 5   Previously_Insured    304887 non-null  int64 \n",
            " 6   Vehicle_Age           304887 non-null  object\n",
            " 7   Vehicle_Damage        304887 non-null  object\n",
            " 8   Annual_Premium        304887 non-null  int64 \n",
            " 9   Policy_Sales_Channel  304887 non-null  int64 \n",
            " 10  Vintage               304887 non-null  int64 \n",
            " 11  Response              304887 non-null  int64 \n",
            "dtypes: int64(9), object(3)\n",
            "memory usage: 27.9+ MB\n"
          ],
          "name": "stdout"
        }
      ]
    },
    {
      "cell_type": "code",
      "metadata": {
        "colab": {
          "base_uri": "https://localhost:8080/",
          "height": 319
        },
        "id": "C_FLx5ViZaZA",
        "outputId": "34022163-eb54-46f6-dc90-a969a0cd47b7"
      },
      "source": [
        "insurance_data.describe()"
      ],
      "execution_count": null,
      "outputs": [
        {
          "output_type": "execute_result",
          "data": {
            "text/html": [
              "<div>\n",
              "<style scoped>\n",
              "    .dataframe tbody tr th:only-of-type {\n",
              "        vertical-align: middle;\n",
              "    }\n",
              "\n",
              "    .dataframe tbody tr th {\n",
              "        vertical-align: top;\n",
              "    }\n",
              "\n",
              "    .dataframe thead th {\n",
              "        text-align: right;\n",
              "    }\n",
              "</style>\n",
              "<table border=\"1\" class=\"dataframe\">\n",
              "  <thead>\n",
              "    <tr style=\"text-align: right;\">\n",
              "      <th></th>\n",
              "      <th>id</th>\n",
              "      <th>Age</th>\n",
              "      <th>Driving_License</th>\n",
              "      <th>Region_Code</th>\n",
              "      <th>Previously_Insured</th>\n",
              "      <th>Annual_Premium</th>\n",
              "      <th>Policy_Sales_Channel</th>\n",
              "      <th>Vintage</th>\n",
              "      <th>Response</th>\n",
              "    </tr>\n",
              "  </thead>\n",
              "  <tbody>\n",
              "    <tr>\n",
              "      <th>count</th>\n",
              "      <td>304887.000000</td>\n",
              "      <td>304887.000000</td>\n",
              "      <td>304887.000000</td>\n",
              "      <td>304887.000000</td>\n",
              "      <td>304887.000000</td>\n",
              "      <td>304887.000000</td>\n",
              "      <td>304887.000000</td>\n",
              "      <td>304887.000000</td>\n",
              "      <td>304887.000000</td>\n",
              "    </tr>\n",
              "    <tr>\n",
              "      <th>mean</th>\n",
              "      <td>190464.686973</td>\n",
              "      <td>38.832545</td>\n",
              "      <td>0.997875</td>\n",
              "      <td>26.381348</td>\n",
              "      <td>0.458435</td>\n",
              "      <td>30567.921318</td>\n",
              "      <td>112.021946</td>\n",
              "      <td>154.293105</td>\n",
              "      <td>0.122357</td>\n",
              "    </tr>\n",
              "    <tr>\n",
              "      <th>std</th>\n",
              "      <td>109998.823015</td>\n",
              "      <td>15.520667</td>\n",
              "      <td>0.046053</td>\n",
              "      <td>13.235034</td>\n",
              "      <td>0.498270</td>\n",
              "      <td>17255.545191</td>\n",
              "      <td>54.212188</td>\n",
              "      <td>83.713258</td>\n",
              "      <td>0.327698</td>\n",
              "    </tr>\n",
              "    <tr>\n",
              "      <th>min</th>\n",
              "      <td>1.000000</td>\n",
              "      <td>20.000000</td>\n",
              "      <td>0.000000</td>\n",
              "      <td>0.000000</td>\n",
              "      <td>0.000000</td>\n",
              "      <td>2630.000000</td>\n",
              "      <td>1.000000</td>\n",
              "      <td>10.000000</td>\n",
              "      <td>0.000000</td>\n",
              "    </tr>\n",
              "    <tr>\n",
              "      <th>25%</th>\n",
              "      <td>95183.500000</td>\n",
              "      <td>25.000000</td>\n",
              "      <td>1.000000</td>\n",
              "      <td>15.000000</td>\n",
              "      <td>0.000000</td>\n",
              "      <td>24409.000000</td>\n",
              "      <td>29.000000</td>\n",
              "      <td>82.000000</td>\n",
              "      <td>0.000000</td>\n",
              "    </tr>\n",
              "    <tr>\n",
              "      <th>50%</th>\n",
              "      <td>190485.000000</td>\n",
              "      <td>36.000000</td>\n",
              "      <td>1.000000</td>\n",
              "      <td>28.000000</td>\n",
              "      <td>0.000000</td>\n",
              "      <td>31673.000000</td>\n",
              "      <td>133.000000</td>\n",
              "      <td>154.000000</td>\n",
              "      <td>0.000000</td>\n",
              "    </tr>\n",
              "    <tr>\n",
              "      <th>75%</th>\n",
              "      <td>285642.500000</td>\n",
              "      <td>49.000000</td>\n",
              "      <td>1.000000</td>\n",
              "      <td>35.000000</td>\n",
              "      <td>1.000000</td>\n",
              "      <td>39393.000000</td>\n",
              "      <td>152.000000</td>\n",
              "      <td>227.000000</td>\n",
              "      <td>0.000000</td>\n",
              "    </tr>\n",
              "    <tr>\n",
              "      <th>max</th>\n",
              "      <td>381108.000000</td>\n",
              "      <td>85.000000</td>\n",
              "      <td>1.000000</td>\n",
              "      <td>52.000000</td>\n",
              "      <td>1.000000</td>\n",
              "      <td>540165.000000</td>\n",
              "      <td>163.000000</td>\n",
              "      <td>299.000000</td>\n",
              "      <td>1.000000</td>\n",
              "    </tr>\n",
              "  </tbody>\n",
              "</table>\n",
              "</div>"
            ],
            "text/plain": [
              "                  id            Age  ...        Vintage       Response\n",
              "count  304887.000000  304887.000000  ...  304887.000000  304887.000000\n",
              "mean   190464.686973      38.832545  ...     154.293105       0.122357\n",
              "std    109998.823015      15.520667  ...      83.713258       0.327698\n",
              "min         1.000000      20.000000  ...      10.000000       0.000000\n",
              "25%     95183.500000      25.000000  ...      82.000000       0.000000\n",
              "50%    190485.000000      36.000000  ...     154.000000       0.000000\n",
              "75%    285642.500000      49.000000  ...     227.000000       0.000000\n",
              "max    381108.000000      85.000000  ...     299.000000       1.000000\n",
              "\n",
              "[8 rows x 9 columns]"
            ]
          },
          "metadata": {
            "tags": []
          },
          "execution_count": 12
        }
      ]
    },
    {
      "cell_type": "code",
      "metadata": {
        "colab": {
          "base_uri": "https://localhost:8080/"
        },
        "id": "hBG2AgalZacJ",
        "outputId": "a9abff61-b4d7-433b-9933-ff09c38a42e0"
      },
      "source": [
        "insurance_data.Gender.value_counts()"
      ],
      "execution_count": null,
      "outputs": [
        {
          "output_type": "execute_result",
          "data": {
            "text/plain": [
              "Male      164823\n",
              "Female    140064\n",
              "Name: Gender, dtype: int64"
            ]
          },
          "metadata": {
            "tags": []
          },
          "execution_count": 13
        }
      ]
    },
    {
      "cell_type": "code",
      "metadata": {
        "colab": {
          "base_uri": "https://localhost:8080/"
        },
        "id": "eybqWIkkZafC",
        "outputId": "9e9f6fd7-50a8-440d-e86a-a4d3657c1174"
      },
      "source": [
        "insurance_data.Vehicle_Age.value_counts()"
      ],
      "execution_count": null,
      "outputs": [
        {
          "output_type": "execute_result",
          "data": {
            "text/plain": [
              "1-2 Year     160244\n",
              "< 1 Year     131823\n",
              "> 2 Years     12820\n",
              "Name: Vehicle_Age, dtype: int64"
            ]
          },
          "metadata": {
            "tags": []
          },
          "execution_count": 15
        }
      ]
    },
    {
      "cell_type": "code",
      "metadata": {
        "colab": {
          "base_uri": "https://localhost:8080/"
        },
        "id": "uqba2jxjaTES",
        "outputId": "c623344e-5f56-41ca-c1f9-0c3c8ad727f9"
      },
      "source": [
        "insurance_data.Vehicle_Damage.value_counts()"
      ],
      "execution_count": null,
      "outputs": [
        {
          "output_type": "execute_result",
          "data": {
            "text/plain": [
              "Yes    153897\n",
              "No     150990\n",
              "Name: Vehicle_Damage, dtype: int64"
            ]
          },
          "metadata": {
            "tags": []
          },
          "execution_count": 16
        }
      ]
    },
    {
      "cell_type": "code",
      "metadata": {
        "colab": {
          "base_uri": "https://localhost:8080/"
        },
        "id": "famJvrJSaYVo",
        "outputId": "d1ced667-9453-46cd-c91d-74713091979e"
      },
      "source": [
        "insurance_data.Previously_Insured.value_counts()"
      ],
      "execution_count": null,
      "outputs": [
        {
          "output_type": "execute_result",
          "data": {
            "text/plain": [
              "0    165116\n",
              "1    139771\n",
              "Name: Previously_Insured, dtype: int64"
            ]
          },
          "metadata": {
            "tags": []
          },
          "execution_count": 17
        }
      ]
    },
    {
      "cell_type": "code",
      "metadata": {
        "colab": {
          "base_uri": "https://localhost:8080/"
        },
        "id": "JdelyewlaalO",
        "outputId": "748b5030-3a41-4772-acd6-79e0f7bd14ed"
      },
      "source": [
        "insurance_data.Driving_License.value_counts()"
      ],
      "execution_count": null,
      "outputs": [
        {
          "output_type": "execute_result",
          "data": {
            "text/plain": [
              "1    304239\n",
              "0       648\n",
              "Name: Driving_License, dtype: int64"
            ]
          },
          "metadata": {
            "tags": []
          },
          "execution_count": 18
        }
      ]
    },
    {
      "cell_type": "code",
      "metadata": {
        "colab": {
          "base_uri": "https://localhost:8080/"
        },
        "id": "JlMc6d_Oacp6",
        "outputId": "ee57b8b0-efb6-402d-927a-7b327d0a80d3"
      },
      "source": [
        "insurance_data.Response.value_counts()"
      ],
      "execution_count": null,
      "outputs": [
        {
          "output_type": "execute_result",
          "data": {
            "text/plain": [
              "0    267582\n",
              "1     37305\n",
              "Name: Response, dtype: int64"
            ]
          },
          "metadata": {
            "tags": []
          },
          "execution_count": 19
        }
      ]
    },
    {
      "cell_type": "code",
      "metadata": {
        "id": "J75hCzZsaehR"
      },
      "source": [
        "scalar =LabelEncoder()\n",
        "insurance_data[\"Gender\"] = scalar.fit_transform(insurance_data[\"Gender\"])"
      ],
      "execution_count": null,
      "outputs": []
    },
    {
      "cell_type": "code",
      "metadata": {
        "colab": {
          "base_uri": "https://localhost:8080/"
        },
        "id": "mgKsXz4-aowb",
        "outputId": "6c0cbadc-f3ac-4b91-9505-1909c8234ee2"
      },
      "source": [
        "insurance_data.Gender.unique()"
      ],
      "execution_count": null,
      "outputs": [
        {
          "output_type": "execute_result",
          "data": {
            "text/plain": [
              "array([1, 0])"
            ]
          },
          "metadata": {
            "tags": []
          },
          "execution_count": 21
        }
      ]
    },
    {
      "cell_type": "code",
      "metadata": {
        "id": "1nd5WNXtaqRY"
      },
      "source": [
        "scalar =LabelEncoder()\n",
        "insurance_data[\"Vehicle_Age\"] = scalar.fit_transform(insurance_data[\"Vehicle_Age\"])"
      ],
      "execution_count": null,
      "outputs": []
    },
    {
      "cell_type": "code",
      "metadata": {
        "colab": {
          "base_uri": "https://localhost:8080/"
        },
        "id": "7L34aixeasDY",
        "outputId": "8392ea19-1104-494f-e093-fa0bba295757"
      },
      "source": [
        "insurance_data.Vehicle_Age.unique()"
      ],
      "execution_count": null,
      "outputs": [
        {
          "output_type": "execute_result",
          "data": {
            "text/plain": [
              "array([0, 1, 2])"
            ]
          },
          "metadata": {
            "tags": []
          },
          "execution_count": 23
        }
      ]
    },
    {
      "cell_type": "code",
      "metadata": {
        "id": "44R7bItNatuU"
      },
      "source": [
        "scalar =LabelEncoder()\n",
        "insurance_data[\"Vehicle_Damage\"] = scalar.fit_transform(insurance_data[\"Vehicle_Damage\"])"
      ],
      "execution_count": null,
      "outputs": []
    },
    {
      "cell_type": "code",
      "metadata": {
        "colab": {
          "base_uri": "https://localhost:8080/"
        },
        "id": "CnH_7D8davMZ",
        "outputId": "0d22a33f-0180-46bc-f4d0-03a2f48389ff"
      },
      "source": [
        "insurance_data.Vehicle_Damage.unique()"
      ],
      "execution_count": null,
      "outputs": [
        {
          "output_type": "execute_result",
          "data": {
            "text/plain": [
              "array([1, 0])"
            ]
          },
          "metadata": {
            "tags": []
          },
          "execution_count": 25
        }
      ]
    },
    {
      "cell_type": "code",
      "metadata": {
        "id": "z0jniS_7awus"
      },
      "source": [
        "features = insurance_data.drop(\"Response\",axis=1)\n",
        "target = insurance_data[\"Response\"]"
      ],
      "execution_count": null,
      "outputs": []
    },
    {
      "cell_type": "code",
      "metadata": {
        "id": "KYY6F0sTay7P"
      },
      "source": [
        "trainx,testx,trainy,testy = train_test_split(features,target,test_size=0.3,random_state=40)"
      ],
      "execution_count": null,
      "outputs": []
    },
    {
      "cell_type": "code",
      "metadata": {
        "colab": {
          "base_uri": "https://localhost:8080/"
        },
        "id": "demf5C5qa8zN",
        "outputId": "6e898cd1-0651-4ce1-f9b8-6c73b5601f8b"
      },
      "source": [
        "print(trainx.shape,trainy.shape)"
      ],
      "execution_count": null,
      "outputs": [
        {
          "output_type": "stream",
          "text": [
            "(213420, 11) (213420,)\n"
          ],
          "name": "stdout"
        }
      ]
    },
    {
      "cell_type": "code",
      "metadata": {
        "colab": {
          "base_uri": "https://localhost:8080/"
        },
        "id": "S7I4HZAGa-fs",
        "outputId": "63254982-2ca1-407a-f9e4-798a2f6dcbd0"
      },
      "source": [
        "print(testx.shape,testy.shape)"
      ],
      "execution_count": null,
      "outputs": [
        {
          "output_type": "stream",
          "text": [
            "(91467, 11) (91467,)\n"
          ],
          "name": "stdout"
        }
      ]
    },
    {
      "cell_type": "code",
      "metadata": {
        "colab": {
          "base_uri": "https://localhost:8080/"
        },
        "id": "z6gcUq3WbAbY",
        "outputId": "15d2f1fe-5b54-4c73-88f4-6a70ffdf876a"
      },
      "source": [
        "testy"
      ],
      "execution_count": null,
      "outputs": [
        {
          "output_type": "execute_result",
          "data": {
            "text/plain": [
              "62761     0\n",
              "99685     0\n",
              "220460    0\n",
              "56346     0\n",
              "270589    0\n",
              "         ..\n",
              "280079    0\n",
              "198766    0\n",
              "164935    0\n",
              "122793    1\n",
              "205251    0\n",
              "Name: Response, Length: 91467, dtype: int64"
            ]
          },
          "metadata": {
            "tags": []
          },
          "execution_count": 30
        }
      ]
    },
    {
      "cell_type": "code",
      "metadata": {
        "id": "crIk3CJJbCPa"
      },
      "source": [
        "#deep neural network, the neural network should have more hiddden layers\n",
        "model = tf.keras.Sequential()\n",
        "model.add(tf.keras.layers.InputLayer(11))\n",
        "model.add(tf.keras.layers.Dense(32,activation=\"relu\"))\n",
        "model.add(tf.keras.layers.Dense(32,activation=\"relu\"))\n",
        "model.add(tf.keras.layers.Dense(16,activation=\"relu\"))\n",
        "model.add(tf.keras.layers.Dense(8,activation=\"relu\"))\n",
        "model.add(tf.keras.layers.Dense(1,activation=\"sigmoid\"))\n",
        "#model.add(tf.keras.layers.Dense(1,activation=\"linear\")) for linear data give activation function as linear"
      ],
      "execution_count": null,
      "outputs": []
    },
    {
      "cell_type": "code",
      "metadata": {
        "colab": {
          "base_uri": "https://localhost:8080/"
        },
        "id": "38rQvIVLbElc",
        "outputId": "a01dfc41-c927-4a3f-c1df-dfebfe8014a1"
      },
      "source": [
        "model.summary()"
      ],
      "execution_count": null,
      "outputs": [
        {
          "output_type": "stream",
          "text": [
            "Model: \"sequential\"\n",
            "_________________________________________________________________\n",
            "Layer (type)                 Output Shape              Param #   \n",
            "=================================================================\n",
            "dense (Dense)                (None, 32)                384       \n",
            "_________________________________________________________________\n",
            "dense_1 (Dense)              (None, 32)                1056      \n",
            "_________________________________________________________________\n",
            "dense_2 (Dense)              (None, 16)                528       \n",
            "_________________________________________________________________\n",
            "dense_3 (Dense)              (None, 8)                 136       \n",
            "_________________________________________________________________\n",
            "dense_4 (Dense)              (None, 1)                 9         \n",
            "=================================================================\n",
            "Total params: 2,113\n",
            "Trainable params: 2,113\n",
            "Non-trainable params: 0\n",
            "_________________________________________________________________\n"
          ],
          "name": "stdout"
        }
      ]
    },
    {
      "cell_type": "code",
      "metadata": {
        "id": "rRjRyIfWbGaR"
      },
      "source": [
        "model.compile(optimizer=\"adam\",loss=\"binary_crossentropy\",metrics=[\"accuracy\"])"
      ],
      "execution_count": null,
      "outputs": []
    },
    {
      "cell_type": "code",
      "metadata": {
        "id": "wMkmCnEqbJjd"
      },
      "source": [
        "pred= model.predict(testx)"
      ],
      "execution_count": null,
      "outputs": []
    },
    {
      "cell_type": "code",
      "metadata": {
        "colab": {
          "base_uri": "https://localhost:8080/"
        },
        "id": "iNQ2q45pbL8v",
        "outputId": "5e7bc8c0-873b-4cde-a69b-58c152af469e"
      },
      "source": [
        "model.fit(trainx,trainy,epochs=5)"
      ],
      "execution_count": null,
      "outputs": [
        {
          "output_type": "stream",
          "text": [
            "Epoch 1/5\n",
            "6670/6670 [==============================] - 11s 2ms/step - loss: 0.3716 - accuracy: 0.8777\n",
            "Epoch 2/5\n",
            "6670/6670 [==============================] - 11s 2ms/step - loss: 0.3715 - accuracy: 0.8777\n",
            "Epoch 3/5\n",
            "6670/6670 [==============================] - 11s 2ms/step - loss: 0.3715 - accuracy: 0.8777\n",
            "Epoch 4/5\n",
            "6670/6670 [==============================] - 11s 2ms/step - loss: 0.3715 - accuracy: 0.8777\n",
            "Epoch 5/5\n",
            "6670/6670 [==============================] - 12s 2ms/step - loss: 0.3715 - accuracy: 0.8777\n"
          ],
          "name": "stdout"
        },
        {
          "output_type": "execute_result",
          "data": {
            "text/plain": [
              "<tensorflow.python.keras.callbacks.History at 0x7fda53dca910>"
            ]
          },
          "metadata": {
            "tags": []
          },
          "execution_count": 36
        }
      ]
    },
    {
      "cell_type": "code",
      "metadata": {
        "colab": {
          "base_uri": "https://localhost:8080/"
        },
        "id": "jv1by0L8bQCe",
        "outputId": "067ca115-07af-4561-8b76-e76fee03d3b5"
      },
      "source": [
        "pred.shape"
      ],
      "execution_count": null,
      "outputs": [
        {
          "output_type": "execute_result",
          "data": {
            "text/plain": [
              "(91467, 1)"
            ]
          },
          "metadata": {
            "tags": []
          },
          "execution_count": 37
        }
      ]
    },
    {
      "cell_type": "code",
      "metadata": {
        "colab": {
          "base_uri": "https://localhost:8080/"
        },
        "id": "FpPYANVnbTy3",
        "outputId": "d9dcc32e-37de-434d-a5bf-ffe8ec93fde5"
      },
      "source": [
        "print(pred.max(),pred.min())"
      ],
      "execution_count": null,
      "outputs": [
        {
          "output_type": "stream",
          "text": [
            "0.0 0.0\n"
          ],
          "name": "stdout"
        }
      ]
    },
    {
      "cell_type": "code",
      "metadata": {
        "id": "Y44tITRmbWIL"
      },
      "source": [
        ""
      ],
      "execution_count": null,
      "outputs": []
    }
  ]
}